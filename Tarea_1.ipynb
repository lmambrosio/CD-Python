{
 "cells": [
  {
   "cell_type": "markdown",
   "metadata": {},
   "source": [
    "***Hoja de Trabajo # 1 - Jupyter Notebooks, Markdown y GIT***<br>\n",
    "***Ciencia de Datos en Python***<br>\n",
    "***Luisa Marcela Ambrosio***<br>\n",
    "***Carné: 21006398***<br>"
   ]
  },
  {
   "cell_type": "markdown",
   "metadata": {},
   "source": [
    "## Introducción"
   ]
  },
  {
   "cell_type": "markdown",
   "metadata": {},
   "source": [
    "<p>Dentro del desarrollo de un proyecto es de vital importancia llevar un seguimiento a los cambios realizados dentro del código fuente o dentro de los archivos, los cuales pueden ser producto de requerimientos, cambios o mejoras realizadas.Existe un conjunto de herramientas que son utilizadas para registrar cada una de las modificaciones. Dentro de estas herramientas puede encontrarse Git, Github, Tortoise, etc.</p>\n",
    "<p>En el presente ensayo se abordan las principales características del controlador de versiones Git, así como algunos de los principales comandos que se utilizan para cargar un archivo y para interactuar con el historial de cambios.\n",
    "</p>"
   ]
  },
  {
   "cell_type": "markdown",
   "metadata": {},
   "source": [
    "## Sistemas de Control de Versiones"
   ]
  },
  {
   "cell_type": "markdown",
   "metadata": {},
   "source": [
    "Los sistemas de control de versiones (VCs por sus siglas en inglés), son herramientas que pueden utilizarse tanto para llevar el historial de cambios de código fuente así como archivos de diferentes tipos. Este tipo de sistemas son de gran utilidad en proyectos en los cuales diversas personas deben trabajar sobre un mismo objeto."
   ]
  },
  {
   "cell_type": "markdown",
   "metadata": {},
   "source": [
    "Estos sistemas realizan una serie de capturas en las cuales el estado de los archivos o carpetas que se encuentran en determinado directorio, estas capturas se encapsulan y contienen todos los metadatos relacionados con el usuario por el cual se creo cada captura."
   ]
  },
  {
   "cell_type": "markdown",
   "metadata": {},
   "source": [
    "### Git"
   ]
  },
  {
   "cell_type": "markdown",
   "metadata": {},
   "source": [
    "Es un sistema de control de versiones, el cuál carece de una interfaz gráfica y amigable, sin embargo es posible interactuar con la herramienta por medio de un conjunto de instrucciones sencillas, también conocidas como comandos."
   ]
  },
  {
   "cell_type": "markdown",
   "metadata": {},
   "source": [
    "Por medio de Git es posible llevar el historial de cambios y es muy recomendable para realizar trabajos colaborativos."
   ]
  },
  {
   "cell_type": "markdown",
   "metadata": {},
   "source": [
    "Dentro de Git hay una serie de conceptos que son básicos para entender su funcionamiento:\n",
    "1. **Blob:** hace referencia a los archivos.\n",
    "2. **Arbol:** hace referencia a las carpetas o directorios en los cuales se encuentran almacenados los blobs.\n",
    "3. **Commits:** o confirmación, corresponden a las capturas (snapshot) que se realizan de los archivos. Git trata a los commits como un objeto. Una de las principales características es que son inmutables, lo cual quiere decir que no pueden sugrir cambios.\n",
    "4. **Referencias:** hace referencia a los apuntadores que se encuentran entren los commits. Básicamente su funcionamiento está dado porque almacena la clave del último commit, por lo que facilita la navegación entre los commit.\n",
    "5. **Repositorio:** es el conjunto de objetos (blobs, directorios y commits) y las referencias."
   ]
  },
  {
   "cell_type": "markdown",
   "metadata": {},
   "source": [
    "Por medio de un gráfico dirigido (DAG) es como Git lleva el registro del historial de cambios. Cada commit realizado, es catalogado como \"hijo\" del commit anterior. Esta interacción entre cambios se realiza por medio de las referencias, las cuales almacenan las ubicaciones de los commits padres. La mejor analogía de este proceso se puede hacer comparando estas relaciones con una rama de un árbol. "
   ]
  },
  {
   "cell_type": "markdown",
   "metadata": {},
   "source": [
    "Antes de aceptar un cambio, Git cuenta con un área de preparación, la cual también es conocida como staging, en la cual el usuario puede decidir que cambios deben ser incluídos en la siguiente captura."
   ]
  },
  {
   "cell_type": "markdown",
   "metadata": {},
   "source": [
    "Es importante recalcar que Git no es lo mismo que Github, ya que este último utiliza otro proceso para la contribución de código, sin embargo si pueden interactuar entre sí."
   ]
  },
  {
   "cell_type": "markdown",
   "metadata": {},
   "source": [
    "#### Carga de un Archivo a Git"
   ]
  },
  {
   "cell_type": "markdown",
   "metadata": {},
   "source": [
    "Para trabajar con Git, es necesario configurar localmente el repositorio en el cual se desea cargar los documentos y/o codigo de proyectos que se desea que se cuente con un control de versiones. Para ello, es necesario es necesario ingresar a la linea de comandos y registrar la cuenta con la cual queremos conectarlo, en este caso se utilizará una cuenta de Github:\n",
    "\n",
    "Primero, configuramos el usuario utilizando los siguientes comandos:<br>\n",
    "``` $ git config --global user.name \"lmambrosio\" ```\n",
    "\n",
    "Seguido de esto, es necesario configurar la dirección de correo electrónico que se registró a la hora de crear la cuenta en Github.<br>\n",
    "``` $ git config --global user.email usuario@email.com ```"
   ]
  },
  {
   "attachments": {
    "2021-02-14%2017_34_04-Window-2.png": {
     "image/png": "[encoded data removed]"
    }
   },
   "cell_type": "markdown",
   "metadata": {},
   "source": [
    "![2021-02-14%2017_34_04-Window-2.png](attachment:2021-02-14%2017_34_04-Window-2.png)"
   ]
  },
  {
   "cell_type": "markdown",
   "metadata": {},
   "source": [
    "Una vez hecha la conexión se procede a clonar el repositorio, previamente configurado en Github. Para ello utilizamos los siguientes comandos:<br>\n",
    "`$ git clone https://github.com/lmambrosio/CD-Python.git`<br>\n",
    "***Nota:*** Es importante mencionar que para pegar la ruta es necesario dar clic derecho y Paste en la consola Git Bash.\n",
    "\n",
    "Una vez realizado esto, ya es posible colocar un documento. Para ello se utilizará el comando cp seguido de la ruta origen del archivo y la ruta destino ( ruta de la carpeta en donde quedó localmente ubicado el repositorio)<br>\n",
    "`cp \"C:\\Users\\Marcela Ambrosio\\OneDrive\\Documentos\\Galileo\\Ciencia de Datos en python\\Tarea_1.ipynb\" \"C:\\Users\\Marcela Ambrosio\\CD-Python\"`<br>\n",
    "***__Nota:__*** Si la ruta contiene espacios dentro del nombre es necesario colocarlo dentro de comilas dobles (***\"***)"
   ]
  },
  {
   "cell_type": "markdown",
   "metadata": {},
   "source": [
    "Una vez colocado el archivo dentro del repositorio ya es posible realizar el proceso para el registro de versiones. Por lo que es necesario ingresar los siguientes comandos:<br>\n",
    "` $ git add \"C:\\Users\\Marcela Ambrosio\\CD-Python\\Tarea_1.ipynb\"`"
   ]
  },
  {
   "cell_type": "code",
   "execution_count": 1,
   "metadata": {},
   "outputs": [
    {
     "data": {
      "text/markdown": [
       "Si un archivo ya existe, se mostrará un mensaje similar a este:\n"
      ],
      "text/plain": [
       "<IPython.core.display.Markdown object>"
      ]
     },
     "metadata": {},
     "output_type": "display_data"
    }
   ],
   "source": [
    "%%markdown\n",
    "Si un archivo ya existe, se mostrará un mensaje similar a este:"
   ]
  },
  {
   "attachments": {
    "2021-02-14%2018_02_24-Window.png": {
     "image/png": "[encoded data removed]"
    }
   },
   "cell_type": "markdown",
   "metadata": {},
   "source": [
    "![2021-02-14%2018_02_24-Window.png](attachment:2021-02-14%2018_02_24-Window.png)"
   ]
  },
  {
   "cell_type": "markdown",
   "metadata": {},
   "source": [
    "Para saber el estado de un archivo se puede realizar por medio del comando `$ git status`. Cuando un archivo es cargado, se queda en estado *Cambios por Confirmar*. El siguiente paso a realizar es el commit, para ello se utiliza el siguiente comando:<br>\n",
    "`$ git commit -m \"Carga inicial del archivo de la tarea.\"`"
   ]
  },
  {
   "cell_type": "markdown",
   "metadata": {},
   "source": [
    "Dentro de la sentencia anterior, es posible ingresar un breve comentario del cambio realizado, esto permite identificar cada una de las confirmaciones por aquello que sea necesario regresar a ellas en cualquier momento.<br><p> La última fase del proceso de carga consiste en realizar el *push* para trasladar los cambios al repositorio de Github. Para ello basta con ingresar los siguientes comandos a la consola</p><br>\n",
    "```$ git push```"
   ]
  },
  {
   "cell_type": "markdown",
   "metadata": {},
   "source": [
    "Al finalizar el proceso de carga, se mostrará algo parecido al siguiente texto dentro de la consola:"
   ]
  },
  {
   "cell_type": "markdown",
   "metadata": {},
   "source": [
    "*Enumerating objects: 3, done.*<br>\n",
    "*Counting objects: 100% (3/3), done.*<br>\n",
    "*Delta compression using up to 4 threads*<br>\n",
    "*Compressing objects: 100% (2/2), done.*<br>\n",
    "*Writing objects: 100% (3/3), 2.47 KiB | 1.23 MiB/s, done.*<br>\n",
    "*Total 3 (delta 0), reused 0 (delta 0), pack-reused 0*<br>\n",
    "*To https://github.com/lmambrosio/CD-Python.git*<br>\n",
    "*[new branch]      master -> master*"
   ]
  },
  {
   "cell_type": "markdown",
   "metadata": {},
   "source": [
    "#### Otros Comandos de Git"
   ]
  },
  {
   "cell_type": "markdown",
   "metadata": {},
   "source": [
    "Existe una serie de comandos adicionales que pueden ser de utilidad a la hora de estar trabajando con git. Entre ellos se encuentran:"
   ]
  },
  {
   "cell_type": "markdown",
   "metadata": {},
   "source": [
    "* ``$ git log``: este comando es utilizado para ver el historial de las confirmaciones. Entre la información que devuelve se encuentra el autor, la fecha y el comentario ingresado en cada uno de los cambios."
   ]
  },
  {
   "cell_type": "markdown",
   "metadata": {},
   "source": [
    "* ``$ git diff``: se utiliza para ver los cambios realizados entre cada una de las confirmaciones y referencias. Este comando cuenta con diferentes propiedades en las cuales es posible interactuar con cada uno de los nodos del historial."
   ]
  },
  {
   "cell_type": "markdown",
   "metadata": {},
   "source": [
    "* ``$ git init``: se utiliza para crear un nuevo repositorio Git. Este repositorio se crea dentro del directorio raíz .git"
   ]
  },
  {
   "cell_type": "markdown",
   "metadata": {},
   "source": [
    "* ``$ git checkout``: se utiliza para poner en estado de no trabajo un archivo"
   ]
  },
  {
   "cell_type": "markdown",
   "metadata": {},
   "source": [
    "* ``$ git branch``: es utlizado para crear un branch."
   ]
  },
  {
   "cell_type": "markdown",
   "metadata": {},
   "source": [
    "* ``$ git remote``: se utiliza para conectarse a un repositorio remoto."
   ]
  },
  {
   "cell_type": "markdown",
   "metadata": {},
   "source": [
    "* ``$ git rm``: se utiliza para eliminar un repositorio."
   ]
  },
  {
   "cell_type": "markdown",
   "metadata": {},
   "source": [
    "## Conclusión"
   ]
  },
  {
   "cell_type": "markdown",
   "metadata": {},
   "source": [
    "Git, a pesar de carecer de una interfaz gráfica amgable, es una herramienta poderosa para llevar el registro de versiones de un archivo. Los comandos son bastante sencillos de memorizar y el proceso de carga de archivos es fácil de realizar. El registro de los cambios puede verse fácilmente con el detalle de la persona y fecha en que se realizó la modificación. El funcionamiento interno de git es a base de nodos que relacionan los commits por medio de las referencias, esto permite la interacción entre cambios para que sea simple indentificar alguna versión en específico. "
   ]
  },
  {
   "cell_type": "markdown",
   "metadata": {},
   "source": [
    "###### Links de Referencia Sobre la cual se trabajó el ensayo:\n",
    "<https://missing.csail.mit.edu/2020/version-control/><br>\n",
    "<https://towardsdatascience.com/how-to-use-git-github-with-jupyter-notebook-7144d6577b44>"
   ]
  }
 ],
 "metadata": {
  "kernelspec": {
   "display_name": "Python 3",
   "language": "python",
   "name": "python3"
  },
  "language_info": {
   "codemirror_mode": {
    "name": "ipython",
    "version": 3
   },
   "file_extension": ".py",
   "mimetype": "text/x-python",
   "name": "python",
   "nbconvert_exporter": "python",
   "pygments_lexer": "ipython3",
   "version": "3.8.5"
  }
 },
 "nbformat": 4,
 "nbformat_minor": 4
}
