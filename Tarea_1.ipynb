{
 "cells": [
  {
   "cell_type": "markdown",
   "metadata": {},
   "source": [
    "***Hoja de Trabajo # 1 - Jupyter Notebooks, Markdown y GIT***<br>\n",
    "***Ciencia de Datos en Python***<br>\n",
    "***Luisa Marcela Ambrosio***<br>\n",
    "***Carné: 21006398***<br>"
   ]
  },
  {
   "cell_type": "markdown",
   "metadata": {},
   "source": [
    "# Sistemas de Control de Versiones"
   ]
  },
  {
   "cell_type": "markdown",
   "metadata": {},
   "source": [
    "## Introducción"
   ]
  },
  {
   "cell_type": "markdown",
   "metadata": {},
   "source": [
    "Las herramientas para el control de versiones se utilizan con la finalidad de llevar un registro de las modificaciones realizadas a el o los archivos que se encuentren dentro del repositorio. Su principal función es la generación de snapshots que almacenan la metadata del detalle de la modificación."
   ]
  },
  {
   "cell_type": "markdown",
   "metadata": {},
   "source": [
    "## VCs"
   ]
  },
  {
   "cell_type": "markdown",
   "metadata": {},
   "source": [
    "Son herramientas que se utilizan para llevar el registro del historial de cambios ya sea en código fuente o en sistemas de archivos."
   ]
  },
  {
   "cell_type": "markdown",
   "metadata": {},
   "source": [
    "Estos sistemas realizan una serie de capturas en las cuales el estado de los archivos o carpetas que se encuentran en determinado directorio, estas capturas se encapsulan y contienen todos los metadatos relacionados con el usuario por el cual se creo cada captura."
   ]
  },
  {
   "cell_type": "markdown",
   "metadata": {},
   "source": [
    "Los sistemas de control de versiones son de gran utilidad en proyectos en los cuales diversas personas deben trabajar sobre un mismo objeto. Sin embargo eso no quiere decir que si es una sola persona la que se encuentra trabajando sobre determinado objeto no pueda implementar un control de versiones."
   ]
  },
  {
   "cell_type": "markdown",
   "metadata": {},
   "source": [
    "### Git"
   ]
  },
  {
   "cell_type": "markdown",
   "metadata": {},
   "source": [
    "Es un sistema de control de versiones, el cuál carece de una interfaz gráfica y amigable, sin embargo es posible interactuar con la herramienta por medio de un conjunto de instrucciones sencillas, también conocidas como comandos."
   ]
  },
  {
   "cell_type": "markdown",
   "metadata": {},
   "source": [
    "Por medio de Git es posible llevar el historial de cambios y es muy recomendable para realizar trabajos colaborativos."
   ]
  },
  {
   "cell_type": "markdown",
   "metadata": {},
   "source": [
    "Dentro de Git hay una serie de conceptos que son básicos para entender su funcionamiento:Dentro de Git hay dos conceptos que son básicos para entender su funcionamiento:\n",
    "* **Blob:** hace referencia a los archivos.\n",
    "* **Arbol:** hace referencia a las carpetas o directorios en los cuales se encuentran almacenados los blobs.\n",
    "* **Commits:** o confirmaciones, corresponden a las capturas (snapshot) que se realizan de los archivos. Git trata a los commits como un objeto. Una de las principales características es que son inmutables, lo cual quiere decir que no pueden sugrir cambios.\n",
    "* **Referencias:** hace referencia a los apuntadores que se encuentran entren los commits. Básicamente su funcionamiento está dado porque almacena la clave del último commit, por lo que facilita la navegación entre los commit.\n",
    "* **Repositorio:** es el conjunto de objetos (blobs, directorios y commits) y las referencias."
   ]
  },
  {
   "cell_type": "markdown",
   "metadata": {},
   "source": [
    "Git cuenta con un área de preparación, la cual también es conocida como staging, en la cual el usuario puede decidir que cambios deben ser incluídos en la siguiente captura."
   ]
  },
  {
   "cell_type": "markdown",
   "metadata": {},
   "source": [
    "### Primeros Pasos en Git"
   ]
  },
  {
   "cell_type": "markdown",
   "metadata": {},
   "source": [
    "Para trabajar con Git, es necesario configurar localmente el repositorio en el cual se desea cargar los documentos y/o codigo de proyectos que se desea que se cuente con un control de versiones. Para ello, es necesario es necesario ingresar a la linea de comandos y registrar la cuenta con la cual queremos conectarlo, en este caso se utilizará una cuenta de Github:\n",
    "\n",
    "Primero, configuramos el usuario utilizando los siguientes comandos:<br>\n",
    "``$ git config --global user.name \"lmambrosio\"``\n",
    "\n",
    "Seguido de esto, es necesario configurar la dirección de correo electrónico que se registró a la hora de crear la cuenta en Github.<br>\n",
    "``$ git config --global user.email usuario@email.com``"
   ]
  },
  {
   "cell_type": "markdown",
   "metadata": {},
   "source": [
    "Una vez hecha la conexión se procede a clonar el repositorio, previamente configurado en Github. Para ello utilizamos los siguientes comandos:<br>\n",
    "``$ git clone https://github.com/lmambrosio/CD-Python.git``<br>\n",
    "***Nota:*** Es importante mencionar que para pegar la ruta es necesario dar clic derecho y Paste en la consola Git Bash.\n",
    "\n",
    "Una vez realizado esto, ya ee posible colocar un documento. Para ello se utilizará el comando cp seguido de la ruta origen del archivo y la ruta destino ( ruta de la carpeta en donde quedó localmente ubicado el repositorio)<br>\n",
    "``cp \"C:\\Users\\Marcela Ambrosio\\OneDrive\\Documentos\\Galileo\\Ciencia de Datos en python\\Tarea 1 - Git.ipynb\" \"C:\\Users\\Marcela Ambrosio\\CD-Python\"``<br>\n",
    "***Nota:*** Si la ruta contiene espacios dentro del nombre es necesario colocarlo dentro de comilas dobles (***\"***)"
   ]
  },
  {
   "cell_type": "markdown",
   "metadata": {},
   "source": [
    "Una vez colocado el archivo dentro del repositorio ya es posible realizar el proceso para el registro de versiones. Por lo que es necesario ingresar los siguientes comandos:<br>\n",
    "`` $ git add \"Tarea 1 - Git.ipynb\"``"
   ]
  },
  {
   "cell_type": "code",
   "execution_count": null,
   "metadata": {},
   "outputs": [],
   "source": []
  },
  {
   "cell_type": "code",
   "execution_count": null,
   "metadata": {},
   "outputs": [],
   "source": []
  },
  {
   "cell_type": "code",
   "execution_count": null,
   "metadata": {},
   "outputs": [],
   "source": []
  },
  {
   "cell_type": "code",
   "execution_count": null,
   "metadata": {},
   "outputs": [],
   "source": []
  },
  {
   "cell_type": "code",
   "execution_count": null,
   "metadata": {},
   "outputs": [],
   "source": []
  },
  {
   "cell_type": "code",
   "execution_count": null,
   "metadata": {},
   "outputs": [],
   "source": []
  },
  {
   "cell_type": "code",
   "execution_count": null,
   "metadata": {},
   "outputs": [],
   "source": []
  },
  {
   "cell_type": "code",
   "execution_count": null,
   "metadata": {},
   "outputs": [],
   "source": []
  },
  {
   "cell_type": "code",
   "execution_count": null,
   "metadata": {},
   "outputs": [],
   "source": []
  },
  {
   "cell_type": "code",
   "execution_count": null,
   "metadata": {},
   "outputs": [],
   "source": []
  },
  {
   "cell_type": "markdown",
   "metadata": {},
   "source": []
  },
  {
   "cell_type": "markdown",
   "metadata": {},
   "source": [
    "`code\n",
    "sks\n",
    "sksk`"
   ]
  },
  {
   "cell_type": "markdown",
   "metadata": {},
   "source": [
    "## Conclusión"
   ]
  },
  {
   "cell_type": "markdown",
   "metadata": {},
   "source": [
    "###### Links de Referencia Sobre la cual se trabajó el ensayo: [Ir al Sitio][blog]\n",
    "[blog]:https://missing.csail.mit.edu/2020/version-control/"
   ]
  }
 ],
 "metadata": {
  "kernelspec": {
   "display_name": "Python 3",
   "language": "python",
   "name": "python3"
  },
  "language_info": {
   "codemirror_mode": {
    "name": "ipython",
    "version": 3
   },
   "file_extension": ".py",
   "mimetype": "text/x-python",
   "name": "python",
   "nbconvert_exporter": "python",
   "pygments_lexer": "ipython3",
   "version": "3.8.5"
  }
 },
 "nbformat": 4,
 "nbformat_minor": 4
}
