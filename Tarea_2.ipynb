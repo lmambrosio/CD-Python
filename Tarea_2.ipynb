{
 "cells": [
  {
   "cell_type": "markdown",
   "metadata": {},
   "source": [
    "***Hoja de Trabajo # 2 - Sintaxis, Listas y Tuplas***<br>\n",
    "***Ciencia de Datos en Python***<br>\n",
    "***Luisa Marcela Ambrosio***<br>\n",
    "***Carné: 21006398***<br>"
   ]
  },
  {
   "cell_type": "markdown",
   "metadata": {},
   "source": [
    "## Parte #1 - (Programación y Sintaxis):"
   ]
  },
  {
   "cell_type": "markdown",
   "metadata": {},
   "source": [
    "#### 1. Haga un programa en Python que reciba de parámetro un número de segundos y que despliegue en pantalla, las horas, minutos y segundos que representan. "
   ]
  },
  {
   "cell_type": "code",
   "execution_count": 28,
   "metadata": {},
   "outputs": [
    {
     "name": "stdin",
     "output_type": "stream",
     "text": [
      "Ingrese los segundos 60\n"
     ]
    },
    {
     "name": "stdout",
     "output_type": "stream",
     "text": [
      "Horas: 0, Minutos:1, Segundos:0\n",
      "Fin de la ejecución\n"
     ]
    }
   ],
   "source": [
    "segundos = input('Ingrese los segundos')\n",
    "\n",
    "try:\n",
    "    \n",
    "    segundos = int(segundos)\n",
    "    \n",
    "    if (segundos < 0):\n",
    "        raise Exception(\"Negativo\")\n",
    "    else:        \n",
    "        horas = segundos // 3600\n",
    "        minutos = (segundos % 3600)/60\n",
    "        segundo= ((segundos % 3600) % 60 )%60\n",
    "        print('Horas: '+str(horas)+', Minutos:'+str(int(minutos))+', Segundos:'+str(segundo))\n",
    "\n",
    "\n",
    "except ValueError as error:\n",
    "    print(\"Solo se permite el ingreso de números enteros\")\n",
    "except Exception as error:\n",
    "    if str(error) == 'Negativo':\n",
    "        print(\"Solo se aceptan números positivos\")\n",
    "finally:\n",
    "    print(\"Fin de la ejecución\")\n",
    "    "
   ]
  },
  {
   "cell_type": "markdown",
   "metadata": {},
   "source": [
    "#### 2. Haga una función en Python que dado un número entre 1 y 20. Y un carácter cualquiera despliegue cuatro patrones triangulares"
   ]
  },
  {
   "cell_type": "code",
   "execution_count": 29,
   "metadata": {},
   "outputs": [
    {
     "name": "stdin",
     "output_type": "stream",
     "text": [
      "Ingrese un número entre 1 y 20: 10\n"
     ]
    },
    {
     "name": "stdout",
     "output_type": "stream",
     "text": [
      "Ingrese un carácter:\n"
     ]
    },
    {
     "name": "stdin",
     "output_type": "stream",
     "text": [
      " *\n"
     ]
    },
    {
     "name": "stdout",
     "output_type": "stream",
     "text": [
      "* ********** ********** *\n",
      "** ********* ********* **\n",
      "*** ******** ******** ***\n",
      "**** ******* ******* ****\n",
      "***** ****** ****** *****\n",
      "****** ***** ***** ******\n",
      "******* **** **** *******\n",
      "******** *** *** ********\n",
      "********* ** ** *********\n",
      "********** * * **********\n",
      "Fin de la ejecución\n"
     ]
    }
   ],
   "source": [
    "valor = input(\"Ingrese un número entre 1 y 20:\")\n",
    "try:\n",
    "    \n",
    "    valor = int(valor)\n",
    "    \n",
    "    if (valor <= 0):\n",
    "        raise Exception(\"Negativo\")\n",
    "    elif (valor > 20):\n",
    "        raise Exception(\"FueraRango\")\n",
    "    else:      \n",
    "        print(\"Ingrese un carácter:\")\n",
    "        caracter = input()\n",
    "        \n",
    "        contador =1\n",
    "   \n",
    "        while contador <= valor:\n",
    "            contadorInterno = 1\n",
    "            contadorInvertido = valor\n",
    "            cadena=\"\"\n",
    "\n",
    "            while contadorInterno <= contador:                \n",
    "                cadena = cadena + str(caracter)                \n",
    "                contadorInterno +=1 \n",
    "\n",
    "            cadena2=\"\"\n",
    "            while contadorInvertido >= contador:                \n",
    "                cadena2 = cadena2 + str(caracter)                \n",
    "                contadorInvertido -=1 \n",
    "                \n",
    "            print(cadena + \" \" +cadena2 + \" \" + cadena2 + \" \" + cadena)\n",
    "            contador += 1\n",
    "        \n",
    "\n",
    "except ValueError as error:\n",
    "    print(\"Solo se permite el ingreso de números enteros\")\n",
    "except Exception as error:\n",
    "    if str(error) == 'Negativo':\n",
    "        print(\"Solo se aceptan números positivos entre 1 y 20\")\n",
    "    if str(error) == 'FueraRango':\n",
    "        print(\"El número sobrepasa el rango permitido\")\n",
    "finally:\n",
    "    print(\"Fin de la ejecución\")"
   ]
  },
  {
   "cell_type": "markdown",
   "metadata": {},
   "source": [
    "#### 3. Haga un programa en Python que la fecha de nacimiento de una persona (puede ingresar por separado cada valor, es decir pedir primero día, luego mes y luego año), despliegue la edad de la persona en años, meses y días. Su resultado puede ser aproximado"
   ]
  },
  {
   "cell_type": "code",
   "execution_count": 47,
   "metadata": {},
   "outputs": [
    {
     "name": "stdin",
     "output_type": "stream",
     "text": [
      "Ingrese el año de su nacimiento: 1991\n",
      "Ingrese el mes de su nacimiento: 3\n",
      "Ingrese el día de su nacimiento: 30\n"
     ]
    },
    {
     "name": "stdout",
     "output_type": "stream",
     "text": [
      "29 años 10 mes 16 dias\n",
      "Fin de la ejecución\n"
     ]
    }
   ],
   "source": [
    "from datetime import date\n",
    "fechaActual = date.today()\n",
    "\n",
    "anio = input('Ingrese el año de su nacimiento:')\n",
    "mes = input('Ingrese el mes de su nacimiento:')\n",
    "dia = input('Ingrese el día de su nacimiento:')\n",
    "\n",
    "try:\n",
    "    anio = int(anio)\n",
    "    mes = int(mes)\n",
    "    dia = int(dia)\n",
    "\n",
    "    if (anio <= 0) or (mes <= 0) or (dia <= 0):\n",
    "        raise Exception(\"Negativo\")\n",
    "    elif (mes > 12) or (dia >31):\n",
    "        raise Exception(\"FueraRango\")\n",
    "    elif (anio > fechaActual.year):\n",
    "        raise Exception(\"Mayor\")\n",
    "    elif (anio >= fechaActual.year) and (mes >= fechaActual.month) and (dia > fechaActual.day):\n",
    "        raise Exception(\"Mayor\")\n",
    "    else:\n",
    "        \n",
    "        anioActual = fechaActual.year \n",
    "        mesActual = fechaActual.month\n",
    "        diaActual = fechaActual.day \n",
    "        \n",
    "        mesAnterior = mes - 1\n",
    "        \n",
    "        if (mesAnterior == 1) or (mesAnterior == 3) or (mesAnterior == 5) or (mesAnterior == 7) or (mesAnterior == 8) or (mesAnterior == 10) or (mesAnterior == 12):\n",
    "            diasMesAnterior = 31\n",
    "        elif (mesAnterior == 4) or (mesAnterior == 6) or (mesAnterior == 9) or (mesAnterior == 11): \n",
    "            diasMesAnterior = 30\n",
    "        else:\n",
    "            diasMesAnterior = 28 # no contemplo anios bisiestos\n",
    "        \n",
    "        if dia > diaActual:\n",
    "            mesActual -= 1    \n",
    "            diaActual += diasMesAnterior  \n",
    "        \n",
    "        if mes > mesActual:\n",
    "            anioActual -= 1\n",
    "            mesActual += 12\n",
    "        \n",
    "        edadAnio = anioActual - anio\n",
    "        edadMes = mesActual - mes\n",
    "        edadDias = diaActual - dia\n",
    "        print(str(edadAnio) + \" años \" + str(edadMes) + \" mes \" + str(edadDias) + \" dias\" ) #cifra varia en dias por años bisiestos\n",
    "\n",
    "    \n",
    "except ValueError as error:\n",
    "    print(\"Solo se permite el ingreso de números enteros\")\n",
    "except Exception as error:\n",
    "    if str(error) == 'Negativo':\n",
    "        print(\"Solo se aceptan números positivos.\")\n",
    "    if str(error) == 'FueraRango':\n",
    "        print(\"El número sobrepasa el rango permitido\")\n",
    "    if str(error) == 'Mayor':\n",
    "        print(\"El fecha sobrepasa a la fecha actual.\")        \n",
    "finally:\n",
    "    print(\"Fin de la ejecución\")"
   ]
  },
  {
   "cell_type": "markdown",
   "metadata": {},
   "source": [
    "## Parte #2 - Estructura de Datos:"
   ]
  },
  {
   "cell_type": "markdown",
   "metadata": {},
   "source": [
    "#### 1. Escriba una función en Python que dada una tupla de elementos (numeros o letras) esta se convierta a un string"
   ]
  },
  {
   "cell_type": "code",
   "execution_count": 1,
   "metadata": {},
   "outputs": [
    {
     "name": "stdout",
     "output_type": "stream",
     "text": [
      "Pasos:\n",
      "1. Ingrese la longitud de la tupla\n",
      "2. Ingrese los elementos de la tupla\n",
      "3. El sistema se encarga de crear la tupla\n",
      "4. El sistema devuelve el string de la tupla.\n",
      ".........................\n",
      "\n"
     ]
    },
    {
     "name": "stdin",
     "output_type": "stream",
     "text": [
      "Ingrese la cantidad de datos a ingresar a la tupla 5\n",
      "Ingrese elemento: L\n",
      "Ingrese elemento: U\n",
      "Ingrese elemento: I\n",
      "Ingrese elemento: S\n",
      "Ingrese elemento: A\n"
     ]
    },
    {
     "name": "stdout",
     "output_type": "stream",
     "text": [
      "\n",
      "Creamos Tupla ....\n",
      ".................\n",
      "Tupla Ingresada:\n",
      "('L', 'U', 'I', 'S', 'A')\n",
      "-----------------\n",
      "Resultado en string:\n",
      "LUISA\n",
      "Fin de la ejecución\n"
     ]
    }
   ],
   "source": [
    "def TuplatoString (tupla):\n",
    "    cadena = \"\"\n",
    "    for contador in range (0,len(tupla)):\n",
    "        cadena = cadena + str(tupla[contador])\n",
    "\n",
    "    print(cadena)\n",
    "\n",
    "######## Solicita Tupla\n",
    "print (\"Pasos:\\n1. Ingrese la longitud de la tupla\\n2. Ingrese los elementos de la tupla\\n3. El sistema se encarga de crear la tupla\\n4. El sistema devuelve el string de la tupla.\\n.........................\\n\") \n",
    "cantidad = input(\"Ingrese la cantidad de datos a ingresar a la tupla\")\n",
    "\n",
    "try:\n",
    "    cantidad = int(cantidad)\n",
    "    if (cantidad <= 0):\n",
    "            raise Exception(\"Negativo\")\n",
    "    else:        \n",
    "        contador = 1\n",
    "        listax = []\n",
    "        while contador <= cantidad:\n",
    "            nuevo = input(\"Ingrese elemento:\")\n",
    "            listax.append(nuevo)\n",
    "            contador += 1\n",
    "        \n",
    "        pTupla = tuple(listax)\n",
    "\n",
    "        print (\"\\nCreamos Tupla ....\\n.................\")\n",
    "        print (\"Tupla Ingresada:\")\n",
    "        print(pTupla)\n",
    "        print (\"-----------------\\nResultado en string:\")\n",
    "        TuplatoString(pTupla)\n",
    "except ValueError as error:\n",
    "    print(\"Solo se permite el ingreso de números enteros\")\n",
    "except Exception as error:\n",
    "    if str(error) == 'Negativo':\n",
    "        print(\"Solo se aceptan números positivos.\")\n",
    "finally:\n",
    "        print(\"Fin de la ejecución\")"
   ]
  },
  {
   "cell_type": "markdown",
   "metadata": {},
   "source": [
    "#### 2. Cree un programa en Python que dada una lista de tuplas, elimine las tuplas que están vacías."
   ]
  },
  {
   "cell_type": "code",
   "execution_count": 37,
   "metadata": {},
   "outputs": [
    {
     "name": "stdout",
     "output_type": "stream",
     "text": [
      "Pasos:\n",
      "1. Ingrese la cantidad de tuplas que desea utilizar\n",
      "2. Ingrese la cantidad de elementos de la primera tupla. Si se desea dejar vacía introducir el número 0\n",
      "3. Ingrese los elementos de la primer tupla\n",
      "4. El sistema repetirá esta solicitud hasta completar la cantidad de tuplas ingresadas en el paso 1\n",
      "5. El sistema se encarga de crear todas las tuplas\n",
      "6. El sistema remueve las tuplas vacías.\n",
      "7. El sistema devuelve la lista sin las tuplas vacías\n",
      ".........................\n",
      "\n"
     ]
    },
    {
     "name": "stdin",
     "output_type": "stream",
     "text": [
      "Ingrese la cantidad de tuplas a ingresar a la lista: 6\n",
      "Ingrese la cantidad de datos a ingresar a la tupla 1 0\n",
      "Ingrese la cantidad de datos a ingresar a la tupla 2 0\n",
      "Ingrese la cantidad de datos a ingresar a la tupla 3 1\n",
      "Ingrese elemento 1 de la tupla 3 X\n",
      "Ingrese la cantidad de datos a ingresar a la tupla 4 2\n",
      "Ingrese elemento 1 de la tupla 4 a\n",
      "Ingrese elemento 2 de la tupla 4 b\n",
      "Ingrese la cantidad de datos a ingresar a la tupla 5 3\n",
      "Ingrese elemento 1 de la tupla 5 a\n",
      "Ingrese elemento 2 de la tupla 5 b\n",
      "Ingrese elemento 3 de la tupla 5 c\n",
      "Ingrese la cantidad de datos a ingresar a la tupla 6 1\n",
      "Ingrese elemento 1 de la tupla 6 d\n"
     ]
    },
    {
     "name": "stdout",
     "output_type": "stream",
     "text": [
      "Creamos Tuplas ....\n",
      ".................\n",
      "Lista Ingresada:\n",
      "[(), (), ('X',), ('a', 'b'), ('a', 'b', 'c'), ('d',)]\n",
      "-----------------\n",
      "Lista Nueva:\n",
      "[('X',), ('a', 'b'), ('a', 'b', 'c'), ('d',)]\n",
      "Fin de la ejecución\n"
     ]
    }
   ],
   "source": [
    "def RemueveTuplasVacias (lista):\n",
    "    listaNueva = [elemento for elemento in lista if elemento != ()] \n",
    "    return(listaNueva)\n",
    "\n",
    "######## Solicita lista\n",
    "print (\"Pasos:\\n1. Ingrese la cantidad de tuplas que desea utilizar\\n2. Ingrese la cantidad de elementos de la primera tupla. Si se desea dejar vacía introducir el número 0\\n3. Ingrese los elementos de la primer tupla\\n4. El sistema repetirá esta solicitud hasta completar la cantidad de tuplas ingresadas en el paso 1\\n5. El sistema se encarga de crear todas las tuplas\\n6. El sistema remueve las tuplas vacías.\\n7. El sistema devuelve la lista sin las tuplas vacías\\n.........................\\n\") \n",
    "\n",
    "cantidadLista = input(\"Ingrese la cantidad de tuplas a ingresar a la lista:\")\n",
    "\n",
    "try:\n",
    "    cantidadLista = int(cantidadLista)\n",
    "    if (cantidadLista <= 0):\n",
    "        raise Exception(\"Negativo\")\n",
    "    else:\n",
    "        contadorLista = 1\n",
    "        listaPrincipal = []\n",
    "        \n",
    "        while contadorLista <= cantidadLista:\n",
    "    #################################################################################             \n",
    "            #### solicita datos para cada tupla\n",
    "            cantidad = 0\n",
    "            cantidad = input(\"Ingrese la cantidad de datos a ingresar a la tupla \"+ str(contadorLista))\n",
    "            cantidad = int(cantidad)\n",
    "            if (cantidad < 0):\n",
    "                raise Exception(\"Negativo\")\n",
    "            else:        \n",
    "                contador = 1\n",
    "                listax = []\n",
    "                #####################################################################\n",
    "                while contador <= cantidad:\n",
    "                    nuevo = input(\"Ingrese elemento \"+str(contador)+\" de la tupla \"+ str(contadorLista))\n",
    "                    listax.append(nuevo)\n",
    "                    contador += 1\n",
    "                \n",
    "                pTupla = tuple(listax)\n",
    "                #####################################################################\n",
    "            listaPrincipal.append(pTupla)\n",
    "            contadorLista += 1 \n",
    "    #################################################################################     \n",
    "    \n",
    "        print (\"Creamos Tuplas ....\\n.................\")\n",
    "        print (\"Lista Ingresada:\")\n",
    "        print(listaPrincipal)\n",
    "        print (\"-----------------\\nLista Nueva:\")\n",
    "        listaPrincipal = RemueveTuplasVacias(listaPrincipal)\n",
    "\n",
    "        print(listaPrincipal)   \n",
    "            \n",
    "except ValueError as error:\n",
    "    print(\"Solo se permite el ingreso de números enteros\")\n",
    "except Exception as error:\n",
    "    if str(error) == 'Negativo':\n",
    "        print(\"Solo se aceptan números positivos.\")\n",
    "finally:\n",
    "        print(\"Fin de la ejecución\")"
   ]
  },
  {
   "cell_type": "markdown",
   "metadata": {},
   "source": [
    "#### 3. Cree una función en Python que dada una tupla de tuplas con numeros, produzca una tupla con el promedio de cada tupla individual."
   ]
  },
  {
   "cell_type": "code",
   "execution_count": 66,
   "metadata": {},
   "outputs": [
    {
     "name": "stdout",
     "output_type": "stream",
     "text": [
      "Pasos:\n",
      "1. Ingrese la cantidad de tuplas que desea utilizar\n",
      "2. Ingrese la cantidad de elementos de la primera tupla. Si se desea dejar vacía introducir el número 0\n",
      "3. Ingrese los elementos de la primer tupla\n",
      "4. El sistema repetirá esta solicitud hasta completar la cantidad de tuplas ingresadas en el paso 1\n",
      "5. El sistema se encarga de crear todas las tuplas\n",
      "6. El sistema remueve las tuplas vacías.\n",
      "7. El sistema devuelve la tupla sin las tuplas vacías\n",
      ".........................\n",
      "\n"
     ]
    },
    {
     "name": "stdin",
     "output_type": "stream",
     "text": [
      "Ingrese la cantidad de tuplas a ingresar a la tupla: 3\n",
      "Ingrese la cantidad de datos a ingresar a la tupla 1 4\n",
      "Ingrese elemento 1 de la tupla 1 10\n",
      "Ingrese elemento 2 de la tupla 1 10\n",
      "Ingrese elemento 3 de la tupla 1 10\n",
      "Ingrese elemento 4 de la tupla 1 12\n",
      "Ingrese la cantidad de datos a ingresar a la tupla 2 4\n",
      "Ingrese elemento 1 de la tupla 2 30\n",
      "Ingrese elemento 2 de la tupla 2 45\n",
      "Ingrese elemento 3 de la tupla 2 56\n",
      "Ingrese elemento 4 de la tupla 2 45\n",
      "Ingrese la cantidad de datos a ingresar a la tupla 3 4\n",
      "Ingrese elemento 1 de la tupla 3 81\n",
      "Ingrese elemento 2 de la tupla 3 80\n",
      "Ingrese elemento 3 de la tupla 3 39\n",
      "Ingrese elemento 4 de la tupla 3 32\n"
     ]
    },
    {
     "name": "stdout",
     "output_type": "stream",
     "text": [
      "Creamos Tuplas ....\n",
      ".................\n",
      "tupla Ingresada:\n",
      "((10.0, 10.0, 10.0, 12.0), (30.0, 45.0, 56.0, 45.0), (81.0, 80.0, 39.0, 32.0))\n",
      "-----------------\n",
      "tupla Nueva:\n",
      "(10.5, 44.0, 58.0)\n",
      "Fin de la ejecución\n"
     ]
    }
   ],
   "source": [
    "def promedioTupla (tupla):\n",
    "    tuplax=[]\n",
    "    for x in range(len(tupla)):\n",
    "        suma = 0\n",
    "        #print(tupla[x])\n",
    "        for z in range(len(tupla[x])):\n",
    "           # print(tupla[x][z])\n",
    "            suma = suma + float(tupla[x][z])\n",
    "        \n",
    "        avg = suma / int(len(tupla[x]))\n",
    "        tuplax.append(avg)\n",
    "    \n",
    "    resultado = tuple(tuplax)\n",
    "    return(resultado)\n",
    "\n",
    "######## Solicita tupla\n",
    "print (\"Pasos:\\n1. Ingrese la cantidad de tuplas que desea utilizar\\n2. Ingrese la cantidad de elementos de la primera tupla. Si se desea dejar vacía introducir el número 0\\n3. Ingrese los elementos de la primer tupla\\n4. El sistema repetirá esta solicitud hasta completar la cantidad de tuplas ingresadas en el paso 1\\n5. El sistema se encarga de crear todas las tuplas\\n6. El sistema remueve las tuplas vacías.\\n7. El sistema devuelve la tupla sin las tuplas vacías\\n.........................\\n\") \n",
    "\n",
    "cantidadtupla = input(\"Ingrese la cantidad de tuplas a ingresar a la tupla:\")\n",
    "\n",
    "try:\n",
    "    cantidadtupla = int(cantidadtupla)\n",
    "    if (cantidadtupla <= 0):\n",
    "        raise Exception(\"Negativo\")\n",
    "    else:\n",
    "        contadortupla = 1\n",
    "        tuplaxPrincipal = []\n",
    "        \n",
    "        while contadortupla <= cantidadtupla:\n",
    "    #################################################################################             \n",
    "            #### solicita datos para cada tupla\n",
    "            cantidad = 0\n",
    "            cantidad = input(\"Ingrese la cantidad de datos a ingresar a la tupla \"+ str(contadortupla))\n",
    "            cantidad = int(cantidad)\n",
    "            if (cantidad < 0):\n",
    "                raise Exception(\"Negativo\")\n",
    "            else:        \n",
    "                contador = 1\n",
    "                tuplax = []\n",
    "                #####################################################################\n",
    "                while contador <= cantidad:\n",
    "                    nuevo = input(\"Ingrese elemento \"+str(contador)+\" de la tupla \"+ str(contadortupla))\n",
    "                    nuevo = float(nuevo)\n",
    "                    tuplax.append(nuevo)\n",
    "                    contador += 1\n",
    "                \n",
    "                pTupla = tuple(tuplax)\n",
    "                #####################################################################\n",
    "            tuplaxPrincipal.append(pTupla)\n",
    "            contadortupla += 1 \n",
    "    #################################################################################     \n",
    "        tuplaPrincipal = tuple(tuplaxPrincipal)\n",
    "        print (\"Creamos Tuplas ....\\n.................\")\n",
    "        print (\"tupla Ingresada:\")\n",
    "        print(tuplaPrincipal)\n",
    "        print (\"-----------------\\ntupla Nueva:\")\n",
    "        ##tuplaPrincipal = promedioTupla(tuplaPrincipal)\n",
    "        print(promedioTupla(tuplaPrincipal))\n",
    "       ## print(tuplaPrincipal)   \n",
    "            \n",
    "except ValueError as error:\n",
    "    print(\"Solo se permite el ingreso de números\")\n",
    "except Exception as error:\n",
    "    if str(error) == 'Negativo':\n",
    "        print(\"Solo se aceptan números positivos.\")\n",
    "finally:\n",
    "        print(\"Fin de la ejecución\")"
   ]
  }
 ],
 "metadata": {
  "kernelspec": {
   "display_name": "Python 3",
   "language": "python",
   "name": "python3"
  },
  "language_info": {
   "codemirror_mode": {
    "name": "ipython",
    "version": 3
   },
   "file_extension": ".py",
   "mimetype": "text/x-python",
   "name": "python",
   "nbconvert_exporter": "python",
   "pygments_lexer": "ipython3",
   "version": "3.8.5"
  }
 },
 "nbformat": 4,
 "nbformat_minor": 4
}
